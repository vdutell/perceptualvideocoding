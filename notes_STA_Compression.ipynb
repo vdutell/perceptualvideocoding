{
 "cells": [
  {
   "cell_type": "markdown",
   "metadata": {},
   "source": [
    "# Notes on State of the Art Compression Schemes"
   ]
  },
  {
   "cell_type": "markdown",
   "metadata": {},
   "source": [
    "## What is this Document?\n",
    "As I research this project there is HEAPS to learn about the state of the art compression schemes already in use."
   ]
  },
  {
   "cell_type": "markdown",
   "metadata": {},
   "source": [
    "## Current Main Players\n",
    "\n",
    "**HEVC/H.265/MPEG-H_2** High Efficiency Video Coding is the most recent generation of AVC/H.264. This is a patented compression scheme developed by the Joint Collaborative Team on Video Coding (JCT-VC) as part of ISO/IEC MPEG and ITU-T VCEG. It was released in 2013, and extended for 3D and for Screen Captured Content (SCC) after. The organizations that participated in JCT-VC own many patents used in the coding scheme, and therefore the scheme is propriatery, and fees are charged to those implementing the scheme.\n",
    "\n",
    "**AV1** AOMedia Video 1 is main competitor to HEVC, and is open source. It is currently in development by the Alliance for Open Media (AOMedia), a consortium of large players in the video content market. It is meant to replace VP9, the previous major open source video coder. It is in the late stages of development, slated to have a bistream freeze in late 2017. It is approximately on par "
   ]
  }
 ],
 "metadata": {
  "kernelspec": {
   "display_name": "Python 3",
   "language": "python",
   "name": "python3"
  },
  "language_info": {
   "codemirror_mode": {
    "name": "ipython",
    "version": 3
   },
   "file_extension": ".py",
   "mimetype": "text/x-python",
   "name": "python",
   "nbconvert_exporter": "python",
   "pygments_lexer": "ipython3",
   "version": "3.6.2"
  }
 },
 "nbformat": 4,
 "nbformat_minor": 2
}
